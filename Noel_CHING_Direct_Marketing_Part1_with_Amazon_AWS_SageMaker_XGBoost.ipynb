{
  "nbformat": 4,
  "nbformat_minor": 0,
  "metadata": {
    "kernelspec": {
      "display_name": "conda_python3",
      "language": "python",
      "name": "conda_python3"
    },
    "language_info": {
      "codemirror_mode": {
        "name": "ipython",
        "version": 3
      },
      "file_extension": ".py",
      "mimetype": "text/x-python",
      "name": "python",
      "nbconvert_exporter": "python",
      "pygments_lexer": "ipython3",
      "version": "3.6.5"
    },
    "notice": "Copyright 2017 Amazon.com, Inc. or its affiliates. All Rights Reserved.  Licensed under the Apache License, Version 2.0 (the \"License\"). You may not use this file except in compliance with the License. A copy of the License is located at http://aws.amazon.com/apache2.0/ or in the \"license\" file accompanying this file. This file is distributed on an \"AS IS\" BASIS, WITHOUT WARRANTIES OR CONDITIONS OF ANY KIND, either express or implied. See the License for the specific language governing permissions and limitations under the License.",
    "colab": {
      "name": "Noel-CHING Direct Marketing Part1 with Amazon AWS SageMaker XGBoost.ipynb",
      "provenance": [],
      "collapsed_sections": [
        "q4MVsiBXea2c",
        "-UFoS3nCea21",
        "vkbnDKr0ea32"
      ]
    }
  },
  "cells": [
    {
      "cell_type": "markdown",
      "metadata": {
        "id": "mXRtHGqUea1E",
        "colab_type": "text"
      },
      "source": [
        "# Direct Marketing with Amazon SageMaker XGBoost\n",
        "\n",
        "[Demo](https://photos.app.goo.gl/PfFfTUzxQMmiq43Q9)\n",
        "\n",
        "Last update: February 5th, 2020"
      ]
    },
    {
      "cell_type": "code",
      "metadata": {
        "id": "KkT2KKaCea1G",
        "colab_type": "code",
        "colab": {}
      },
      "source": [
        "%%sh\n",
        "pip -q install --upgrade pip\n",
        "pip -q install sagemaker awscli boto3 smdebug --upgrade"
      ],
      "execution_count": null,
      "outputs": []
    },
    {
      "cell_type": "code",
      "metadata": {
        "id": "KS0uJBOlea1M",
        "colab_type": "code",
        "colab": {}
      },
      "source": [
        "from IPython.core.display import HTML\n",
        "HTML(\"<script>Jupyter.notebook.kernel.restart()</script>\")"
      ],
      "execution_count": null,
      "outputs": []
    },
    {
      "cell_type": "markdown",
      "metadata": {
        "id": "k81uDMJRea1R",
        "colab_type": "text"
      },
      "source": [
        "___\n",
        "# PART 1 - Downloading and processing the dataset"
      ]
    },
    {
      "cell_type": "markdown",
      "metadata": {
        "id": "6puud9sBea1Z",
        "colab_type": "text"
      },
      "source": [
        "Let's start by downloading the [direct marketing dataset](https://archive.ics.uci.edu/ml/datasets/bank+marketing) from UCI's ML Repository."
      ]
    },
    {
      "cell_type": "code",
      "metadata": {
        "id": "dCqykBknea1a",
        "colab_type": "code",
        "colab": {}
      },
      "source": [
        "!wget -N https://archive.ics.uci.edu/ml/machine-learning-databases/00222/bank-additional.zip\n",
        "!unzip -o bank-additional.zip"
      ],
      "execution_count": null,
      "outputs": []
    },
    {
      "cell_type": "code",
      "metadata": {
        "scrolled": true,
        "id": "RwKxZ9KBea1g",
        "colab_type": "code",
        "colab": {}
      },
      "source": [
        "!head ./bank-additional/bank-additional-full.csv"
      ],
      "execution_count": null,
      "outputs": []
    },
    {
      "cell_type": "markdown",
      "metadata": {
        "id": "u5_BGW-aea1l",
        "colab_type": "text"
      },
      "source": [
        "We need to load this CSV file, inspect it, pre-process it, etc. Please don't write custom Python code to do this!\n",
        "\n",
        "Instead, developers typically use libraries such as:\n",
        "* Pandas: a library providing high-performance, easy-to-use data structures and data analysis tools for the Python programming language: https://pandas.pydata.org/.\n",
        "* Numpy: a fundamental package for scientific computing with Python: http://www.numpy.org/\n",
        "\n",
        "Along the way, we'll use functions from these two libraries. You should definitely become familiar with them, they will make your life much easier when working with large datasets."
      ]
    },
    {
      "cell_type": "code",
      "metadata": {
        "id": "W9h2JCppea1m",
        "colab_type": "code",
        "colab": {}
      },
      "source": [
        "import numpy as np  # For matrix operations and numerical processing\n",
        "import pandas as pd # For munging tabular data"
      ],
      "execution_count": null,
      "outputs": []
    },
    {
      "cell_type": "markdown",
      "metadata": {
        "id": "yRWrP7k5ea1q",
        "colab_type": "text"
      },
      "source": [
        "Let's read the CSV file into a Pandas data frame and take a look at the first few lines."
      ]
    },
    {
      "cell_type": "code",
      "metadata": {
        "id": "6TROCfRtea1r",
        "colab_type": "code",
        "colab": {}
      },
      "source": [
        "# https://pandas.pydata.org/pandas-docs/stable/generated/pandas.read_csv.html\n",
        "data = pd.read_csv('./bank-additional/bank-additional-full.csv', sep=';')\n",
        "pd.set_option('display.max_columns', 500)     # Make sure we can see all of the columns\n",
        "pd.set_option('display.max_rows', 50)         # Keep the output on one page\n",
        "data[:10] # Show the first 10 lines"
      ],
      "execution_count": null,
      "outputs": []
    },
    {
      "cell_type": "code",
      "metadata": {
        "id": "TY7B41Wbea1x",
        "colab_type": "code",
        "colab": {}
      },
      "source": [
        "data.shape # (number of lines, number of columns)"
      ],
      "execution_count": null,
      "outputs": []
    },
    {
      "cell_type": "markdown",
      "metadata": {
        "id": "nYCdgcyuea12",
        "colab_type": "text"
      },
      "source": [
        "The two classes are extremely unbalanced and it could be a problem for our classifier."
      ]
    },
    {
      "cell_type": "code",
      "metadata": {
        "id": "gdmFNKBgea13",
        "colab_type": "code",
        "colab": {}
      },
      "source": [
        "one_class = data[data['y']=='yes']\n",
        "one_class_count = one_class.shape[0]\n",
        "print(\"Positive samples: %d\" % one_class_count)\n",
        "\n",
        "zero_class = data[data['y']=='no']\n",
        "zero_class_count = zero_class.shape[0]\n",
        "print(\"Negative samples: %d\" % zero_class_count)\n",
        "\n",
        "zero_to_one_ratio = zero_class_count/one_class_count\n",
        "print(\"Ratio: %.2f\" % zero_to_one_ratio)"
      ],
      "execution_count": null,
      "outputs": []
    },
    {
      "cell_type": "markdown",
      "metadata": {
        "id": "-BWcPyl1ea17",
        "colab_type": "text"
      },
      "source": [
        "### Transforming the dataset\n",
        "Cleaning up data is part of nearly every machine learning project.  It arguably presents the biggest risk if done incorrectly and is one of the more subjective aspects in the process."
      ]
    },
    {
      "cell_type": "markdown",
      "metadata": {
        "id": "_88yWfYEea18",
        "colab_type": "text"
      },
      "source": [
        "First of all, many records have the value of \"999\" for pdays, number of days that passed by after a client was last contacted. It is very likely to be a magic number to represent that no contact was made before. Considering that, we create a new column called \"no_previous_contact\", then grant it value of \"1\" when pdays is 999 and \"0\" otherwise."
      ]
    },
    {
      "cell_type": "code",
      "metadata": {
        "id": "QY5Bqqxqea19",
        "colab_type": "code",
        "colab": {}
      },
      "source": [
        "[np.min(data['pdays']), np.max(data['pdays'])]"
      ],
      "execution_count": null,
      "outputs": []
    },
    {
      "cell_type": "code",
      "metadata": {
        "id": "BF2JS-Zxea2C",
        "colab_type": "code",
        "colab": {}
      },
      "source": [
        "# Indicator variable to capture when pdays takes a value of 999\n",
        "# https://docs.scipy.org/doc/numpy-1.15.1/reference/generated/numpy.where.html\n",
        "data['no_previous_contact'] = np.where(data['pdays'] == 999, 1, 0)\n",
        "data = data.drop(['pdays'], axis=1)"
      ],
      "execution_count": null,
      "outputs": []
    },
    {
      "cell_type": "markdown",
      "metadata": {
        "id": "4TfT5oflea2H",
        "colab_type": "text"
      },
      "source": [
        "In the \"job\" column, there are categories that mean the customer is not working, e.g., \"student\", \"retire\", and \"unemployed\". Since it is very likely whether or not a customer is working will affect his/her decision to enroll in the term deposit, we generate a new column to show whether the customer is working based on \"job\" column."
      ]
    },
    {
      "cell_type": "code",
      "metadata": {
        "id": "oqEBHQpIea2I",
        "colab_type": "code",
        "colab": {}
      },
      "source": [
        "data['job'].value_counts()"
      ],
      "execution_count": null,
      "outputs": []
    },
    {
      "cell_type": "code",
      "metadata": {
        "id": "nBeVa-BLea2M",
        "colab_type": "code",
        "colab": {}
      },
      "source": [
        "# Indicator for individuals not actively employed\n",
        "# https://docs.scipy.org/doc/numpy-1.15.0/reference/generated/numpy.in1d.html\n",
        "data['not_working'] = np.where(np.in1d(data['job'], ['student', 'retired', 'unemployed']), 1, 0)"
      ],
      "execution_count": null,
      "outputs": []
    },
    {
      "cell_type": "markdown",
      "metadata": {
        "id": "Fv15u5qaea2R",
        "colab_type": "text"
      },
      "source": [
        "Last but not the least, we convert categorical to numeric, as is suggested above."
      ]
    },
    {
      "cell_type": "code",
      "metadata": {
        "id": "OzgBP88Rea2R",
        "colab_type": "code",
        "colab": {}
      },
      "source": [
        "# https://pandas.pydata.org/pandas-docs/stable/generated/pandas.get_dummies.html\n",
        "model_data = pd.get_dummies(data)  # Convert categorical variables to sets of indicators\n",
        "model_data[:10]"
      ],
      "execution_count": null,
      "outputs": []
    },
    {
      "cell_type": "markdown",
      "metadata": {
        "id": "__oMp0HEea2W",
        "colab_type": "text"
      },
      "source": [
        "As you can see, each categorical column (job, marital, education, etc.) has been replaced by a set of new columns, one for each possible value in the category. Accordingly, we now have 67 columns instead of 21."
      ]
    },
    {
      "cell_type": "code",
      "metadata": {
        "id": "gCuZhTc-ea2Y",
        "colab_type": "code",
        "colab": {}
      },
      "source": [
        "model_data.shape"
      ],
      "execution_count": null,
      "outputs": []
    },
    {
      "cell_type": "markdown",
      "metadata": {
        "id": "q4MVsiBXea2c",
        "colab_type": "text"
      },
      "source": [
        "### Splitting the dataset\n",
        "\n",
        "We'll then split the dataset into training (70%), validation (20%), and test (10%) datasets and convert the datasets to the right format the algorithm expects. We will use training and validation datasets during training and we will try to maximize the accuracy on the validation dataset.\n",
        " \n",
        "Once the model has been deployed, we'll use the test dataset to evaluate its performance.\n",
        "\n",
        "Amazon SageMaker's XGBoost algorithm expects data in the libSVM or CSV data format.  For this example, we'll stick to CSV.  Note that the first column must be the target variable and the CSV should not include headers.  Also, notice that although repetitive it's easiest to do this after the train|validation|test split rather than before.  This avoids any misalignment issues due to random reordering."
      ]
    },
    {
      "cell_type": "code",
      "metadata": {
        "id": "xOB8XQ56ea2c",
        "colab_type": "code",
        "colab": {}
      },
      "source": [
        "# Set the seed to 123 for reproductibility\n",
        "# https://pandas.pydata.org/pandas-docs/version/0.22/generated/pandas.DataFrame.sample.html\n",
        "# https://docs.scipy.org/doc/numpy-1.15.1/reference/generated/numpy.split.html\n",
        "train_data, validation_data, test_data = np.split(model_data.sample(frac=1, random_state=123), \n",
        "                                                  [int(0.7 * len(model_data)), int(0.9*len(model_data))])  \n",
        "\n",
        "# Drop the two columns for 'yes' and 'no' and add 'yes' back as first column of the dataframe\n",
        "# https://pandas.pydata.org/pandas-docs/stable/generated/pandas.concat.html\n",
        "pd.concat([train_data['y_yes'], train_data.drop(['y_no', 'y_yes'], axis=1)], axis=1).to_csv('train.csv', index=False, header=False)\n",
        "pd.concat([validation_data['y_yes'], validation_data.drop(['y_no', 'y_yes'], axis=1)], axis=1).to_csv('validation.csv', index=False, header=False)\n",
        "#pd.concat([test_data['y_yes'], test_data.drop(['y_no', 'y_yes'], axis=1)], axis=1).to_csv('test.csv', index=False, header=False)\n",
        "\n",
        "# Dropping the target value, as we will use this CSV file for batch transform\n",
        "test_data.drop(['y_no', 'y_yes'], axis=1).to_csv('test.csv', index=False, header=False)"
      ],
      "execution_count": null,
      "outputs": []
    },
    {
      "cell_type": "code",
      "metadata": {
        "id": "UpfLaOmSea2h",
        "colab_type": "code",
        "colab": {}
      },
      "source": [
        "!ls -l *.csv"
      ],
      "execution_count": null,
      "outputs": []
    },
    {
      "cell_type": "markdown",
      "metadata": {
        "id": "eyoxrJ0hea2m",
        "colab_type": "text"
      },
      "source": [
        "Now we'll copy the files to S3 for Amazon SageMaker training to pickup."
      ]
    },
    {
      "cell_type": "code",
      "metadata": {
        "id": "wptFYEsDea2n",
        "colab_type": "code",
        "colab": {}
      },
      "source": [
        "import sagemaker\n",
        "import boto3, os\n",
        "\n",
        "print (sagemaker.__version__)\n",
        "\n",
        "bucket = sagemaker.Session().default_bucket()                     \n",
        "prefix = 'sagemaker/DEMO-xgboost-dm'\n",
        "\n",
        "boto3.Session().resource('s3').Bucket(bucket).Object(os.path.join(prefix, 'train/train.csv')).upload_file('train.csv')\n",
        "boto3.Session().resource('s3').Bucket(bucket).Object(os.path.join(prefix, 'validation/validation.csv')).upload_file('validation.csv')\n",
        "boto3.Session().resource('s3').Bucket(bucket).Object(os.path.join(prefix, 'test/test.csv')).upload_file('test.csv')"
      ],
      "execution_count": null,
      "outputs": []
    },
    {
      "cell_type": "markdown",
      "metadata": {
        "id": "TzAMes4tea2r",
        "colab_type": "text"
      },
      "source": [
        "SageMaker needs to know where the training and validation sets are located, so let's define that."
      ]
    },
    {
      "cell_type": "code",
      "metadata": {
        "id": "5_5hQeouea2s",
        "colab_type": "code",
        "colab": {}
      },
      "source": [
        "s3_input_train = sagemaker.s3_input(s3_data='s3://{}/{}/train'.format(bucket, prefix), content_type='csv')\n",
        "s3_input_validation = sagemaker.s3_input(s3_data='s3://{}/{}/validation/'.format(bucket, prefix), content_type='csv')\n",
        "s3_data = {'train': s3_input_train, 'validation': s3_input_validation}"
      ],
      "execution_count": null,
      "outputs": []
    },
    {
      "cell_type": "markdown",
      "metadata": {
        "id": "Nbwycxfbea2v",
        "colab_type": "text"
      },
      "source": [
        "---\n",
        "# PART 2 - Training our model"
      ]
    },
    {
      "cell_type": "markdown",
      "metadata": {
        "id": "TXJfufTUea2w",
        "colab_type": "text"
      },
      "source": [
        "The problem we're trying to solve is a classification problem: will a given customer react positively to our marketing offer or not? In order to answer this question, let's train a classification model with XGBoost, a popular open source project available in SageMaker."
      ]
    },
    {
      "cell_type": "code",
      "metadata": {
        "id": "By73LUB_ea2x",
        "colab_type": "code",
        "colab": {}
      },
      "source": [
        "from sagemaker.amazon.amazon_estimator import get_image_uri\n",
        "\n",
        "from sagemaker.estimator import Estimator\n",
        "# https://sagemaker.readthedocs.io/en/stable/estimators.html\n",
        "\n",
        "from sagemaker.debugger import rule_configs, Rule, DebuggerHookConfig, CollectionConfig\n",
        "# https://sagemaker.readthedocs.io/en/stable/debugger.html\n",
        "# https://docs.aws.amazon.com/sagemaker/latest/dg/class-imbalance.html\n",
        "\n",
        "sess = sagemaker.Session()\n",
        "region = boto3.Session().region_name    \n",
        "\n",
        "container = get_image_uri(region, 'xgboost', repo_version='0.90-2')\n",
        "\n",
        "save_interval = '1'\n",
        "\n",
        "xgb = Estimator(\n",
        "    \n",
        "    container,                                               # The algorithm (XGBoost)\n",
        "    role=sagemaker.get_execution_role(),                     # IAM permissions for SageMaker\n",
        "    sagemaker_session=sess,                                  # Technical object\n",
        "                                    \n",
        "    input_mode='File',                                       # Copy the dataset and then train\n",
        "    output_path='s3://{}/{}/output'.format(bucket, prefix),  # Save the model here\n",
        "                                    \n",
        "    train_instance_count=1,                                  # Instance requirements\n",
        "    train_instance_type='ml.m4.2xlarge',\n",
        "                                    \n",
        "    train_use_spot_instances=True,                           # Use a spot instance\n",
        "    train_max_run=300,                                       # Max training time\n",
        "    train_max_wait=600,                                      # Max training time + spot waiting time\n",
        "                                    \n",
        "    debugger_hook_config=DebuggerHookConfig(                 # Save training tensors\n",
        "        s3_output_path='s3://{}/{}/debug'.format(bucket, prefix), \n",
        "        collection_configs=[\n",
        "            CollectionConfig(\n",
        "                name=\"metrics\",\n",
        "                parameters={\n",
        "                    \"save_interval\": save_interval\n",
        "                }\n",
        "            ),\n",
        "            CollectionConfig(\n",
        "                name=\"feature_importance\",\n",
        "                parameters={\n",
        "                    \"save_interval\": save_interval\n",
        "                }\n",
        "            )\n",
        "        ],\n",
        "    ),\n",
        "    \n",
        "    rules=[\n",
        "        Rule.sagemaker(                                      # Configure debugger rule\n",
        "            rule_configs.class_imbalance(),                  \n",
        "            rule_parameters={\n",
        "                \"collection_names\": \"metrics\"\n",
        "            },\n",
        "        ),\n",
        "    ]\n",
        ")"
      ],
      "execution_count": null,
      "outputs": []
    },
    {
      "cell_type": "markdown",
      "metadata": {
        "id": "-UFoS3nCea21",
        "colab_type": "text"
      },
      "source": [
        "### Setting hyper parameters\n",
        "Each built-in algorithm has a set of hyperparameters. Here are the ones for XGBoost: \n",
        "https://docs.aws.amazon.com/sagemaker/latest/dg/xgboost_hyperparameters.html\n",
        "\n",
        "That probably looks a little weird :) Let's stick to three simple parameters:\n",
        "* Build a binary classifier: 'binary:logistic'.\n",
        "* Use the 'Area Under Curve' metric, a good metric for classifiers.\n",
        "* Train for 100 rounds, with early stopping if the metric hasn't improved in 10 rounds."
      ]
    },
    {
      "cell_type": "code",
      "metadata": {
        "id": "HdODmGGYea22",
        "colab_type": "code",
        "colab": {}
      },
      "source": [
        "# https://github.com/dmlc/xgboost/blob/master/doc/parameter.rst\n",
        "\n",
        "xgb.set_hyperparameters(\n",
        "    objective='binary:logistic', \n",
        "    eval_metric='auc', \n",
        "    num_round=100,\n",
        "    early_stopping_rounds=10\n",
        ")"
      ],
      "execution_count": null,
      "outputs": []
    },
    {
      "cell_type": "markdown",
      "metadata": {
        "id": "0VE4MxCgea25",
        "colab_type": "text"
      },
      "source": [
        "We're all set. Let's train!"
      ]
    },
    {
      "cell_type": "code",
      "metadata": {
        "id": "bS0ZbYTJea26",
        "colab_type": "code",
        "colab": {}
      },
      "source": [
        "xgb.fit(s3_data)"
      ],
      "execution_count": null,
      "outputs": []
    },
    {
      "cell_type": "markdown",
      "metadata": {
        "id": "11pJUYU2ea2-",
        "colab_type": "text"
      },
      "source": [
        "Let's check the status of our debug job."
      ]
    },
    {
      "cell_type": "code",
      "metadata": {
        "id": "VTexWWbMea2_",
        "colab_type": "code",
        "colab": {}
      },
      "source": [
        "xgb.latest_training_job.rule_job_summary()"
      ],
      "execution_count": null,
      "outputs": []
    },
    {
      "cell_type": "markdown",
      "metadata": {
        "id": "1ls1csvKea3E",
        "colab_type": "text"
      },
      "source": [
        "Now, let's load the tensors saved during training, and plot them."
      ]
    },
    {
      "cell_type": "code",
      "metadata": {
        "id": "feHey3dlea3F",
        "colab_type": "code",
        "colab": {}
      },
      "source": [
        "import smdebug\n",
        "from smdebug.trials import create_trial\n",
        "\n",
        "s3_output_path = xgb.latest_job_debugger_artifacts_path()\n",
        "trial = create_trial(s3_output_path)"
      ],
      "execution_count": null,
      "outputs": []
    },
    {
      "cell_type": "markdown",
      "metadata": {
        "id": "gQhgxBoVea3J",
        "colab_type": "text"
      },
      "source": [
        "Let's plot our metric over time."
      ]
    },
    {
      "cell_type": "code",
      "metadata": {
        "id": "pbQ09T_Xea3K",
        "colab_type": "code",
        "colab": {}
      },
      "source": [
        "import matplotlib.pyplot as plt\n",
        "import seaborn as sns\n",
        "import re\n",
        "\n",
        "def get_data(trial, tname):\n",
        "    \"\"\"\n",
        "    For the given tensor name, walks though all the iterations\n",
        "    for which you have data and fetches the values.\n",
        "    Returns the set of steps and the values.\n",
        "    \"\"\"\n",
        "    tensor = trial.tensor(tname)\n",
        "    steps = tensor.steps()\n",
        "    vals = [tensor.value(s) for s in steps]\n",
        "    return steps, vals\n",
        "\n",
        "def plot_collection(trial, collection_name, regex='.*', figsize=(8, 6)):\n",
        "    \"\"\"\n",
        "    Takes a `trial` and a collection name, and \n",
        "    plots all tensors that match the given regex.\n",
        "    \"\"\"\n",
        "    fig, ax = plt.subplots(figsize=figsize)\n",
        "    sns.despine()\n",
        "\n",
        "    tensors = trial.collection(collection_name).tensor_names\n",
        "\n",
        "    for tensor_name in sorted(tensors):\n",
        "        if re.match(regex, tensor_name):\n",
        "            steps, data = get_data(trial, tensor_name)\n",
        "            ax.plot(steps, data, label=tensor_name)\n",
        "\n",
        "    ax.legend(loc='center left', bbox_to_anchor=(1, 0.5))\n",
        "    ax.set_xlabel('Iteration')"
      ],
      "execution_count": null,
      "outputs": []
    },
    {
      "cell_type": "code",
      "metadata": {
        "id": "qj80V_nKea3N",
        "colab_type": "code",
        "colab": {}
      },
      "source": [
        "plot_collection(trial, \"metrics\")"
      ],
      "execution_count": null,
      "outputs": []
    },
    {
      "cell_type": "markdown",
      "metadata": {
        "id": "YaAtsxXmea3R",
        "colab_type": "text"
      },
      "source": [
        "Now let's plot feature importance."
      ]
    },
    {
      "cell_type": "code",
      "metadata": {
        "id": "lt_1kclhea3S",
        "colab_type": "code",
        "colab": {}
      },
      "source": [
        "def plot_feature_importance(trial, importance_type=\"weight\"):\n",
        "    SUPPORTED_IMPORTANCE_TYPES = [\"weight\", \"gain\", \"cover\", \"total_gain\", \"total_cover\"]\n",
        "    if importance_type not in SUPPORTED_IMPORTANCE_TYPES:\n",
        "        raise ValueError(f\"{importance_type} is not one of the supported importance types.\")\n",
        "    plot_collection(\n",
        "        trial,\n",
        "        \"feature_importance\",\n",
        "        regex=f\"feature_importance/{importance_type}/.*\")"
      ],
      "execution_count": null,
      "outputs": []
    },
    {
      "cell_type": "code",
      "metadata": {
        "id": "QMEBBplFea3W",
        "colab_type": "code",
        "colab": {}
      },
      "source": [
        "plot_feature_importance(trial)"
      ],
      "execution_count": null,
      "outputs": []
    },
    {
      "cell_type": "markdown",
      "metadata": {
        "id": "9sJJsQAhea3a",
        "colab_type": "text"
      },
      "source": [
        "Features 1 (job) and 5 (housing) should be the most important ones."
      ]
    },
    {
      "cell_type": "markdown",
      "metadata": {
        "id": "eoXtZkioea3b",
        "colab_type": "text"
      },
      "source": [
        "___\n",
        "# PART 3 - Deploying our model"
      ]
    },
    {
      "cell_type": "markdown",
      "metadata": {
        "id": "K3f6nOCeea3c",
        "colab_type": "text"
      },
      "source": [
        "Now let's deploy our model to an HTTPS endpoint, and enable data capture. All it takes is one line of code."
      ]
    },
    {
      "cell_type": "code",
      "metadata": {
        "id": "jcAAHNswea3d",
        "colab_type": "code",
        "colab": {}
      },
      "source": [
        "from sagemaker.model_monitor.data_capture_config import DataCaptureConfig\n",
        "# https://sagemaker.readthedocs.io/en/stable/model_monitor.html\n",
        "\n",
        "from time import strftime, gmtime\n",
        "timestamp = strftime('%d-%H-%M-%S', gmtime())\n",
        "\n",
        "capture_path = 's3://{}/{}/capture/'.format(bucket, prefix)\n",
        "\n",
        "xgb_endpoint = xgb.deploy(\n",
        "    \n",
        "    endpoint_name = 'DEMO-xgboost-dm-{}'.format(timestamp),\n",
        "    \n",
        "    initial_instance_count = 1,                    # Infrastructure requirements\n",
        "    instance_type = 'ml.m4.xlarge',\n",
        "\n",
        "    data_capture_config = DataCaptureConfig(       \n",
        "        enable_capture = True,                     # Capture data\n",
        "        sampling_percentage = 100,                 \n",
        "        #capture_options = [“REQUEST”, “RESPONSE”] # Default value\n",
        "        destination_s3_uri = capture_path          # Save data here\n",
        "    )\n",
        ")"
      ],
      "execution_count": null,
      "outputs": []
    },
    {
      "cell_type": "markdown",
      "metadata": {
        "id": "SSucNtEMea3h",
        "colab_type": "text"
      },
      "source": [
        "## Predicting with our model\n",
        "\n",
        "First we'll need to determine how we pass data into and receive data from our endpoint. Our data is currently stored as NumPy arrays in memory of our notebook instance. To send it in an HTTP POST request, we'll serialize it as a CSV string and then decode the resulting CSV.\n",
        "\n",
        "Let's predict the first 10 samples from the test set."
      ]
    },
    {
      "cell_type": "code",
      "metadata": {
        "id": "srUfkeEOea3h",
        "colab_type": "code",
        "colab": {}
      },
      "source": [
        "sm = boto3.Session().client(service_name='runtime.sagemaker') \n",
        "\n",
        "test_samples = [line.rstrip('\\n') for line in open('test.csv')]\n",
        "test_samples = test_samples[:100] # We'll predict the first 100 samples\n",
        "\n",
        "for sample in test_samples:\n",
        "    sample = bytes(sample, 'utf-8')\n",
        "    response = sm.invoke_endpoint(EndpointName=xgb_endpoint.endpoint, \n",
        "                                  ContentType='text/csv', \n",
        "                                  Body=sample)\n",
        "    print(response['Body'].read())"
      ],
      "execution_count": null,
      "outputs": []
    },
    {
      "cell_type": "markdown",
      "metadata": {
        "id": "qSHFijQtea3l",
        "colab_type": "text"
      },
      "source": [
        "For each sample, our binary classifier returns a probability between 0 and 1. Since we decided to maximize accuracy, the model sets a threshold of 0.5: anything lower is treated as a 0, anything higher as a 1. \n",
        "\n",
        "To dive a little deeper:  the threshold is baked in the metric that XGBoost uses. Here, we use the default 'eval_metric' for classification, i.e. 'error'. This metric has a default threshold of 0.5. If you look at the XGBoost doc (https://xgboost.readthedocs.io/en/latest/parameter.html), you'll see that it's possible to pass a different threshold, doing something like:\n",
        "xgb.set_hyperparameters(objective='binary:logistic', num_round=100, eval_metric='error@0.2')"
      ]
    },
    {
      "cell_type": "code",
      "metadata": {
        "id": "cspdtUwzea3m",
        "colab_type": "code",
        "colab": {}
      },
      "source": [
        "%%sh -s \"$capture_path\"\n",
        "echo $1\n",
        "sleep 120\n",
        "aws s3 ls --recursive $1\n",
        "aws s3 cp --recursive $1 ."
      ],
      "execution_count": null,
      "outputs": []
    },
    {
      "cell_type": "code",
      "metadata": {
        "id": "no3dRQd9ea3q",
        "colab_type": "code",
        "colab": {}
      },
      "source": [
        "%%sh \n",
        "\n",
        "# head <FILENAME>"
      ],
      "execution_count": null,
      "outputs": []
    },
    {
      "cell_type": "markdown",
      "metadata": {
        "id": "936Yz_Mhea3t",
        "colab_type": "text"
      },
      "source": [
        "## Use batch prediction\n",
        "Some use cases either don't require or don't work well with HTTPS-based prediction. Imagine having to predict 100GB of bulk data every 24 hours: it wouldn't be efficient to do this with an endpoint.\n",
        "\n",
        "SageMaker supports batch prediction. Let's apply it to the model we trained earlier: run the next 2 cells and wait for a bit. While this takes place, head out to the SageMaker web console and familiarize yourself with the \"Batch transform jobs\" section."
      ]
    },
    {
      "cell_type": "code",
      "metadata": {
        "id": "g4XpdM_bea3u",
        "colab_type": "code",
        "colab": {}
      },
      "source": [
        "transformer = xgb.transformer(instance_count=1, instance_type='ml.m4.xlarge')\n",
        "\n",
        "# Reminder: test.csv must only contain features, not the target value\n",
        "transformer.transform('s3://{}/{}/test/test.csv'.format(bucket, prefix), content_type='text/csv')"
      ],
      "execution_count": null,
      "outputs": []
    },
    {
      "cell_type": "code",
      "metadata": {
        "id": "40KqhoeJea3z",
        "colab_type": "code",
        "colab": {}
      },
      "source": [
        "transformer.wait()\n",
        "print(transformer.output_path)"
      ],
      "execution_count": null,
      "outputs": []
    },
    {
      "cell_type": "markdown",
      "metadata": {
        "id": "vkbnDKr0ea32",
        "colab_type": "text"
      },
      "source": [
        "### Copy the output file and display the first 10 predictions\n",
        "Predictions are written to S3. Let's use the AWS CLI to retrieve them and display the first 10 probabilities."
      ]
    },
    {
      "cell_type": "code",
      "metadata": {
        "id": "77Tiu6gOea33",
        "colab_type": "code",
        "colab": {}
      },
      "source": [
        "!aws s3 cp $transformer.output_path/test.csv.out .\n",
        "!ls -l test.csv.out\n",
        "!head -10 test.csv.out"
      ],
      "execution_count": null,
      "outputs": []
    },
    {
      "cell_type": "markdown",
      "metadata": {
        "id": "HGg0ZT3wea37",
        "colab_type": "text"
      },
      "source": [
        "## Deleting the endpoint\n",
        "Once that we're done predicting, we can delete the endpoint (and stop paying for it). You can re-deploy again by running the appropriate cell above. "
      ]
    },
    {
      "cell_type": "code",
      "metadata": {
        "id": "SQJmREugea37",
        "colab_type": "code",
        "colab": {}
      },
      "source": [
        "sagemaker.Session().delete_endpoint(xgb_endpoint.endpoint)"
      ],
      "execution_count": null,
      "outputs": []
    },
    {
      "cell_type": "code",
      "metadata": {
        "id": "FN8Xfqdwea4C",
        "colab_type": "code",
        "colab": {}
      },
      "source": [
        ""
      ],
      "execution_count": null,
      "outputs": []
    },
    {
      "cell_type": "code",
      "metadata": {
        "id": "jx48h1tBea4J",
        "colab_type": "code",
        "colab": {}
      },
      "source": [
        ""
      ],
      "execution_count": null,
      "outputs": []
    }
  ]
}