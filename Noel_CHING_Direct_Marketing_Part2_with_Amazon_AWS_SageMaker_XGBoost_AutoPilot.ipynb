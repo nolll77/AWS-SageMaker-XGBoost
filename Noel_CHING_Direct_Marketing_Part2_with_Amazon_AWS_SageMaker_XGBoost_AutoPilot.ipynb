{
  "nbformat": 4,
  "nbformat_minor": 0,
  "metadata": {
    "kernelspec": {
      "display_name": "conda_python3",
      "language": "python",
      "name": "conda_python3"
    },
    "language_info": {
      "codemirror_mode": {
        "name": "ipython",
        "version": 3
      },
      "file_extension": ".py",
      "mimetype": "text/x-python",
      "name": "python",
      "nbconvert_exporter": "python",
      "pygments_lexer": "ipython3",
      "version": "3.6.5"
    },
    "notice": "Copyright 2017 Amazon.com, Inc. or its affiliates. All Rights Reserved.  Licensed under the Apache License, Version 2.0 (the \"License\"). You may not use this file except in compliance with the License. A copy of the License is located at http://aws.amazon.com/apache2.0/ or in the \"license\" file accompanying this file. This file is distributed on an \"AS IS\" BASIS, WITHOUT WARRANTIES OR CONDITIONS OF ANY KIND, either express or implied. See the License for the specific language governing permissions and limitations under the License.",
    "colab": {
      "name": "Noel-CHING Direct Marketing Part2 with Amazon AWS SageMaker XGBoost-AutoPilot.ipynb",
      "provenance": []
    }
  },
  "cells": [
    {
      "cell_type": "code",
      "metadata": {
        "id": "eLj-heWLfNrR",
        "colab_type": "code",
        "colab": {}
      },
      "source": [
        "%%sh\n",
        "pip -q install --upgrade pip\n",
        "pip -q install sagemaker awscli boto3 --upgrade"
      ],
      "execution_count": null,
      "outputs": []
    },
    {
      "cell_type": "code",
      "metadata": {
        "id": "9rztkpm0fNrX",
        "colab_type": "code",
        "colab": {}
      },
      "source": [
        "from IPython.core.display import HTML\n",
        "HTML(\"<script>Jupyter.notebook.kernel.restart()</script>\")"
      ],
      "execution_count": null,
      "outputs": []
    },
    {
      "cell_type": "markdown",
      "metadata": {
        "id": "3Qwit2MIfNrc",
        "colab_type": "text"
      },
      "source": [
        "# Direct Marketing with Amazon SageMaker AutoPilot\n",
        "\n",
        "Last update: February 6th, 2019"
      ]
    },
    {
      "cell_type": "code",
      "metadata": {
        "isConfigCell": true,
        "scrolled": true,
        "id": "O5Kd1schfNrd",
        "colab_type": "code",
        "colab": {}
      },
      "source": [
        "import sagemaker\n",
        "import smdebug_rulesconfig as rule_configs\n",
        "import boto3\n",
        "import os, sys\n",
        "\n",
        "print (sagemaker.__version__)\n",
        "\n",
        "sess   = sagemaker.Session()\n",
        "bucket = sess.default_bucket()                     \n",
        "prefix = 'sagemaker/DEMO-automl-dm'\n",
        "region = boto3.Session().region_name"
      ],
      "execution_count": null,
      "outputs": []
    },
    {
      "cell_type": "code",
      "metadata": {
        "id": "Qo04_pLXfNri",
        "colab_type": "code",
        "colab": {}
      },
      "source": [
        "import numpy as np \n",
        "import pandas as pd"
      ],
      "execution_count": null,
      "outputs": []
    },
    {
      "cell_type": "code",
      "metadata": {
        "id": "bz5n-jqJfNrm",
        "colab_type": "code",
        "colab": {}
      },
      "source": [
        "!wget -N https://archive.ics.uci.edu/ml/machine-learning-databases/00222/bank-additional.zip\n",
        "!unzip -o bank-additional.zip"
      ],
      "execution_count": null,
      "outputs": []
    },
    {
      "cell_type": "markdown",
      "metadata": {
        "id": "9xCBtI61fNr5",
        "colab_type": "text"
      },
      "source": [
        "Let's read the CSV file into a Pandas data frame and take a look at the first few lines."
      ]
    },
    {
      "cell_type": "code",
      "metadata": {
        "id": "QUvCPa6BfNr6",
        "colab_type": "code",
        "colab": {}
      },
      "source": [
        "# https://pandas.pydata.org/pandas-docs/stable/generated/pandas.read_csv.html\n",
        "data = pd.read_csv('./bank-additional/bank-additional-full.csv', sep=';')\n",
        "pd.set_option('display.max_columns', 500)     # Make sure we can see all of the columns\n",
        "pd.set_option('display.max_rows', 50)         # Keep the output on one page\n",
        "data[:10] # Show the first 10 lines"
      ],
      "execution_count": null,
      "outputs": []
    },
    {
      "cell_type": "code",
      "metadata": {
        "id": "83K8NvySfNr_",
        "colab_type": "code",
        "colab": {}
      },
      "source": [
        "data.shape # (number of lines, number of columns)"
      ],
      "execution_count": null,
      "outputs": []
    },
    {
      "cell_type": "markdown",
      "metadata": {
        "id": "Ge-XaitifNsH",
        "colab_type": "text"
      },
      "source": [
        "## Splitting the dataset\n",
        "\n",
        "We split the dataset into training (95%) and test (5%) datasets. We will use the training dataset for AutoML, where it will be automatically split again for training and validation.\n",
        " \n",
        "Once the model has been deployed, we'll use the test dataset to evaluate its performance."
      ]
    },
    {
      "cell_type": "code",
      "metadata": {
        "id": "eouw5b4RfNsI",
        "colab_type": "code",
        "colab": {}
      },
      "source": [
        "# Set the seed to 123 for reproductibility\n",
        "# https://pandas.pydata.org/pandas-docs/version/0.25/generated/pandas.DataFrame.sample.html\n",
        "# https://docs.scipy.org/doc/numpy-1.15.1/reference/generated/numpy.split.html\n",
        "train_data, test_data, _ = np.split(data.sample(frac=1, random_state=123), \n",
        "                                                  [int(0.95 * len(data)), int(len(data))])  \n",
        "\n",
        "# Save to CSV files\n",
        "train_data.to_csv('automl-train.csv', index=False, header=True, sep=',') # Need to keep column names\n",
        "test_data.to_csv('automl-test.csv', index=False, header=True, sep=',')"
      ],
      "execution_count": null,
      "outputs": []
    },
    {
      "cell_type": "code",
      "metadata": {
        "id": "fbn8cqGpfNsN",
        "colab_type": "code",
        "colab": {}
      },
      "source": [
        "!ls -l automl*.csv"
      ],
      "execution_count": null,
      "outputs": []
    },
    {
      "cell_type": "markdown",
      "metadata": {
        "id": "Ee27mZK0fNsS",
        "colab_type": "text"
      },
      "source": [
        "**No preprocessing needed!** AutoML will take care of this, so let's just copy the training set to S3."
      ]
    },
    {
      "cell_type": "code",
      "metadata": {
        "id": "DRUW42YJfNsT",
        "colab_type": "code",
        "colab": {}
      },
      "source": [
        "s3_input_data = sess.upload_data(path=\"automl-train.csv\", key_prefix=prefix + \"/input\")\n",
        "print(s3_input_data)"
      ],
      "execution_count": null,
      "outputs": []
    },
    {
      "cell_type": "markdown",
      "metadata": {
        "id": "scFxZLE3fNsX",
        "colab_type": "text"
      },
      "source": [
        "## Setting up the SageMaker AutoPilot job\n",
        "\n",
        "After uploading the dataset to S3, we can invoke SageMaker AutoPilot to find the best ML pipeline to train a model on this dataset. \n",
        "\n",
        "The required inputs for invoking a SageMaker AutoML job are the dataset location in S3, the name of the column of the dataset you want to predict (`y` in this case) and an IAM role."
      ]
    },
    {
      "cell_type": "code",
      "metadata": {
        "id": "73qELatDfNsY",
        "colab_type": "code",
        "colab": {}
      },
      "source": [
        "from sagemaker.automl.automl import AutoML\n",
        "# https://sagemaker.readthedocs.io/en/stable/automl.html\n",
        "\n",
        "role = sagemaker.get_execution_role()\n",
        "\n",
        "auto_ml_job = AutoML(\n",
        "    role = role,                                              # IAM permissions for SageMaker\n",
        "    sagemaker_session = sess,                                 # \n",
        "    target_attribute_name = 'y',                              # The column we want to predict\n",
        "    output_path = 's3://{}/{}/output'.format(bucket,prefix),  # Save artefacts here\n",
        "    max_candidates = 100,                                     # Default is 500\n",
        "    max_runtime_per_training_job_in_seconds = 600, \n",
        "    total_job_runtime_in_seconds = 3600\n",
        ")"
      ],
      "execution_count": null,
      "outputs": []
    },
    {
      "cell_type": "markdown",
      "metadata": {
        "id": "hdqM2c4_fNse",
        "colab_type": "text"
      },
      "source": [
        "## Launching the SageMaker AutoPilot job\n",
        "\n",
        "We can now launch the job by calling the `fit()` API."
      ]
    },
    {
      "cell_type": "code",
      "metadata": {
        "id": "CM0wfQBpfNse",
        "colab_type": "code",
        "colab": {}
      },
      "source": [
        "auto_ml_job.fit(inputs=s3_input_data, logs=False, wait=False)"
      ],
      "execution_count": null,
      "outputs": []
    },
    {
      "cell_type": "code",
      "metadata": {
        "id": "IqaiLs91fNsj",
        "colab_type": "code",
        "colab": {}
      },
      "source": [
        "auto_ml_job.describe_auto_ml_job()"
      ],
      "execution_count": null,
      "outputs": []
    },
    {
      "cell_type": "markdown",
      "metadata": {
        "id": "5ivd7m6afNso",
        "colab_type": "text"
      },
      "source": [
        "### Tracking the progress of the AutoPilot job\n",
        "SageMaker AutoPilot job consists of four high-level steps : \n",
        "* Data Preprocessing, where the dataset is split into train and validation sets.\n",
        "* Recommending Pipelines, where the dataset is analyzed and SageMaker AutoPilot comes up with a list of ML pipelines that should be tried out on the dataset.\n",
        "* Automatic Feature Engineering, where SageMaker AutoPilot performs feature transformation on individual features of the dataset as well as at an aggregate level.\n",
        "* ML pipeline selection and hyperparameter tuning, where the top performing pipeline is selected along with the optimal hyperparameters for the training algorithm (the last stage of the pipeline). "
      ]
    },
    {
      "cell_type": "code",
      "metadata": {
        "id": "xZswk_iEfNso",
        "colab_type": "code",
        "colab": {}
      },
      "source": [
        "from time import sleep\n",
        "\n",
        "job = auto_ml_job.describe_auto_ml_job()\n",
        "job_status = job['AutoMLJobStatus']\n",
        "job_sec_status = job['AutoMLJobSecondaryStatus']\n",
        "\n",
        "if job_status not in ('Stopped', 'Failed'):\n",
        "    while job_status in ('InProgress') and job_sec_status in ('AnalyzingData'):\n",
        "        sleep(30)\n",
        "        job = auto_ml_job.describe_auto_ml_job()\n",
        "        job_status = job['AutoMLJobStatus']\n",
        "        job_sec_status = job['AutoMLJobSecondaryStatus']\n",
        "        print (job_status, job_sec_status)\n",
        "    print(\"Data analysis complete\")"
      ],
      "execution_count": null,
      "outputs": []
    },
    {
      "cell_type": "markdown",
      "metadata": {
        "id": "aBRnwySLfNsv",
        "colab_type": "text"
      },
      "source": [
        "## Viewing notebooks generated by SageMaker AutoPilot\n",
        "Once data analysis is complete, SageMaker AutoPilot generates two notebooks: \n",
        "* Data exploration,\n",
        "* Candidate definition."
      ]
    },
    {
      "cell_type": "code",
      "metadata": {
        "id": "YFy-sYIKfNsw",
        "colab_type": "code",
        "colab": {}
      },
      "source": [
        "job = auto_ml_job.describe_auto_ml_job()\n",
        "job_candidate_notebook = job['AutoMLJobArtifacts']['CandidateDefinitionNotebookLocation']\n",
        "job_data_notebook = job['AutoMLJobArtifacts']['DataExplorationNotebookLocation']\n",
        "\n",
        "print(job_candidate_notebook)\n",
        "print(job_data_notebook)"
      ],
      "execution_count": null,
      "outputs": []
    },
    {
      "cell_type": "markdown",
      "metadata": {
        "id": "V4bovs1vfNs1",
        "colab_type": "text"
      },
      "source": [
        "Let's copy these two notebooks."
      ]
    },
    {
      "cell_type": "code",
      "metadata": {
        "id": "hUnInGT6fNs1",
        "colab_type": "code",
        "colab": {}
      },
      "source": [
        "%%sh -s $job_candidate_notebook $job_data_notebook\n",
        "aws s3 cp $1 .\n",
        "aws s3 cp $2 ."
      ],
      "execution_count": null,
      "outputs": []
    },
    {
      "cell_type": "markdown",
      "metadata": {
        "id": "HpUqZUyDfNs7",
        "colab_type": "text"
      },
      "source": [
        "Go back to the folder view, and open these notebooks. Lots of useful information in there!"
      ]
    },
    {
      "cell_type": "markdown",
      "metadata": {
        "id": "NVB_GIlCfNs8",
        "colab_type": "text"
      },
      "source": [
        "SageMaker AutoPilot then launches feature engineering, and prepares different training and validation datasets."
      ]
    },
    {
      "cell_type": "code",
      "metadata": {
        "id": "B_CMGjn1fNs9",
        "colab_type": "code",
        "colab": {}
      },
      "source": [
        "job = auto_ml_job.describe_auto_ml_job()\n",
        "job_status = job['AutoMLJobStatus']\n",
        "job_sec_status = job['AutoMLJobSecondaryStatus']\n",
        "\n",
        "if job_status not in ('Stopped', 'Failed'):\n",
        "    while job_status in ('InProgress') and job_sec_status in ('FeatureEngineering'):\n",
        "        sleep(30)\n",
        "        job = auto_ml_job.describe_auto_ml_job()\n",
        "        job_status = job['AutoMLJobStatus']\n",
        "        job_sec_status = job['AutoMLJobSecondaryStatus']\n",
        "        print (job_status, job_sec_status)\n",
        "    print(\"Feature engineering complete\")"
      ],
      "execution_count": null,
      "outputs": []
    },
    {
      "cell_type": "markdown",
      "metadata": {
        "id": "5XpLeAPBfNtB",
        "colab_type": "text"
      },
      "source": [
        "Once feature engineering is complete, SageMaker AutoPilot launches Automatic Model Tuning on the different candidates. While model tuning is running, we can explore its progress with SageMaker Experiments."
      ]
    },
    {
      "cell_type": "code",
      "metadata": {
        "id": "CMEewwuwfNtC",
        "colab_type": "code",
        "colab": {}
      },
      "source": [
        "import pandas as pd\n",
        "from sagemaker.analytics import ExperimentAnalytics, TrainingJobAnalytics\n",
        "\n",
        "exp = ExperimentAnalytics(\n",
        "    sagemaker_session=sess, \n",
        "    experiment_name=job['AutoMLJobName'] + '-aws-auto-ml-job',\n",
        ")\n",
        "\n",
        "df = exp.dataframe()\n",
        "print(\"Number of jobs: \", len(df))\n",
        "\n",
        "# Move metric to first column\n",
        "df = pd.concat([df['ObjectiveMetric - Max'], df.drop(['ObjectiveMetric - Max'], axis=1)], axis=1)\n",
        "# Show top 5 jobs\n",
        "df.sort_values('ObjectiveMetric - Max', ascending=0)[:5]"
      ],
      "execution_count": null,
      "outputs": []
    },
    {
      "cell_type": "code",
      "metadata": {
        "id": "kU0WlsHjfNtH",
        "colab_type": "code",
        "colab": {}
      },
      "source": [
        "job = auto_ml_job.describe_auto_ml_job()\n",
        "job_status = job['AutoMLJobStatus']\n",
        "job_sec_status = job['AutoMLJobSecondaryStatus']\n",
        "\n",
        "if job_status not in ('Stopped', 'Failed'):\n",
        "    while job_status in ('InProgress') and job_sec_status in ('ModelTuning'):\n",
        "        sleep(30)\n",
        "        job = auto_ml_job.describe_auto_ml_job()\n",
        "        job_status = job['AutoMLJobStatus']\n",
        "        job_sec_status = job['AutoMLJobSecondaryStatus']\n",
        "        print (job_status, job_sec_status)\n",
        "    print(\"Model tuning complete\")"
      ],
      "execution_count": null,
      "outputs": []
    },
    {
      "cell_type": "markdown",
      "metadata": {
        "id": "HZzUg9LYfNtL",
        "colab_type": "text"
      },
      "source": [
        "## Deploying the best candidate\n",
        "Now that we have successfully completed the AutoML job on our dataset and visualized the trials, we can create a model from any of the trials with a single API call and then deploy that model for online or batch prediction using [Inference Pipelines](https://docs.aws.amazon.com/sagemaker/latest/dg/inference-pipelines.html). For this notebook, we deploy only the best performing trial for inference."
      ]
    },
    {
      "cell_type": "markdown",
      "metadata": {
        "id": "Lerlt82nfNtM",
        "colab_type": "text"
      },
      "source": [
        "The best candidate is the one we're really interested in."
      ]
    },
    {
      "cell_type": "code",
      "metadata": {
        "id": "pAdFZsRmfNtN",
        "colab_type": "code",
        "colab": {}
      },
      "source": [
        "from time import strftime, gmtime\n",
        "timestamp = strftime('%d-%H-%M-%S', gmtime())\n",
        "\n",
        "endpoint_name = job['AutoMLJobName']+'-'+timestamp"
      ],
      "execution_count": null,
      "outputs": []
    },
    {
      "cell_type": "code",
      "metadata": {
        "id": "WCiyjClgfNtS",
        "colab_type": "code",
        "colab": {}
      },
      "source": [
        "auto_ml_job.deploy(\n",
        "    initial_instance_count = 1,\n",
        "    instance_type = 'ml.m4.xlarge',\n",
        "    endpoint_name = endpoint_name\n",
        ")"
      ],
      "execution_count": null,
      "outputs": []
    },
    {
      "cell_type": "markdown",
      "metadata": {
        "id": "b-REcpOIfNtZ",
        "colab_type": "text"
      },
      "source": [
        "## Scoring the best candidate"
      ]
    },
    {
      "cell_type": "markdown",
      "metadata": {
        "id": "7L58KEsJfNta",
        "colab_type": "text"
      },
      "source": [
        "Let's predict and score the validation set. We'll compute metrics ourselves just for fun."
      ]
    },
    {
      "cell_type": "code",
      "metadata": {
        "id": "NYZ7RvcEfNtb",
        "colab_type": "code",
        "colab": {}
      },
      "source": [
        "from sagemaker.predictor import csv_serializer, RealTimePredictor\n",
        "from sagemaker.content_types import CONTENT_TYPE_CSV\n",
        "\n",
        "predictor = RealTimePredictor(\n",
        "    endpoint=endpoint_name, \n",
        "    sagemaker_session=sess, \n",
        "    serializer=csv_serializer,\n",
        "    content_type=CONTENT_TYPE_CSV, \n",
        "    accept='text/csv'\n",
        ")"
      ],
      "execution_count": null,
      "outputs": []
    },
    {
      "cell_type": "code",
      "metadata": {
        "id": "GP3K6oopfNtg",
        "colab_type": "code",
        "colab": {}
      },
      "source": [
        "tp = tn = fp = fn = count = 0\n",
        "\n",
        "with open('automl-test.csv') as f:\n",
        "    lines = f.readlines()\n",
        "    for l in lines[1:]:   # Skip header\n",
        "        l = l.split(',')  # Split CSV line into feature array\n",
        "        label = l[-1]     # Store 'yes'/'no' label\n",
        "        l = l[:-1]        # Remove label\n",
        "        l = ','.join(l)   # Rebuild CSV line without label\n",
        "                \n",
        "        response = predictor.predict(l)\n",
        "        response = response.decode(\"utf-8\")\n",
        "        #print (\"label %s response %s\" %(label,response))\n",
        "\n",
        "        if 'yes' in label:\n",
        "            # Sample is positive\n",
        "            if 'yes' in response:\n",
        "                # True positive\n",
        "                tp=tp+1\n",
        "            else:\n",
        "                # False negative\n",
        "                fn=fn+1\n",
        "        else:\n",
        "            # Sample is negative\n",
        "            if 'no' in response:\n",
        "                # True negative\n",
        "                tn=tn+1\n",
        "            else:\n",
        "                # False positive\n",
        "                fp=fp+1\n",
        "        count = count+1\n",
        "        if (count % 100 == 0):   \n",
        "            sys.stdout.write(str(count)+' ')\n",
        "            \n",
        "print (\"Done\")"
      ],
      "execution_count": null,
      "outputs": []
    },
    {
      "cell_type": "code",
      "metadata": {
        "id": "VAPmGAAXfNtn",
        "colab_type": "code",
        "colab": {}
      },
      "source": [
        "#Confusion matrix\n",
        "print (\"%d %d\" % (tn, fp))\n",
        "print (\"%d %d\" % (fn, tp))\n",
        "\n",
        "accuracy  = (tp+tn)/(tp+tn+fp+fn)\n",
        "precision = tp/(tp+fp)\n",
        "recall    = tn/(tn+fn)\n",
        "f1        = (2*precision*recall)/(precision+recall)\n",
        "\n",
        "print (\"%.4f %.4f %.4f %.4f\" % (accuracy, precision, recall, f1))"
      ],
      "execution_count": null,
      "outputs": []
    },
    {
      "cell_type": "markdown",
      "metadata": {
        "id": "C6CUCUJ6fNtr",
        "colab_type": "text"
      },
      "source": [
        "## Deleting the endpoint\n",
        "Once that we're done predicting, we can delete the endpoint (and stop paying for it)."
      ]
    },
    {
      "cell_type": "code",
      "metadata": {
        "id": "3C9dsk_7fNtr",
        "colab_type": "code",
        "colab": {}
      },
      "source": [
        "# Uncomment to delete\n",
        "# sess.delete_endpoint(predictor.endpoint)"
      ],
      "execution_count": null,
      "outputs": []
    },
    {
      "cell_type": "markdown",
      "metadata": {
        "id": "cUgmDjSSfNtv",
        "colab_type": "text"
      },
      "source": [
        "The SageMaker AutoML job creates many underlying artifacts such as dataset splits, preprocessing scripts, preprocessed data, etc. Let's delete them."
      ]
    },
    {
      "cell_type": "code",
      "metadata": {
        "id": "6HKn5XcnfNtw",
        "colab_type": "code",
        "colab": {}
      },
      "source": [
        "import boto3\n",
        "\n",
        "job_outputs_prefix = '{}/output/{}'.format(prefix, job['AutoMLJobName'])\n",
        "print(job_outputs_prefix)\n",
        "\n",
        "s3_bucket =boto3.resource('s3').Bucket(bucket)\n",
        "# Uncomment to delete\n",
        "# s3_bucket.objects.filter(Prefix=job_outputs_prefix).delete()"
      ],
      "execution_count": null,
      "outputs": []
    },
    {
      "cell_type": "code",
      "metadata": {
        "id": "6JoE2wvgfNt1",
        "colab_type": "code",
        "colab": {}
      },
      "source": [
        ""
      ],
      "execution_count": null,
      "outputs": []
    }
  ]
}